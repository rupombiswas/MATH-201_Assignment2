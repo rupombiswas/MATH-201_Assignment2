{
 "cells": [
  {
   "cell_type": "markdown",
   "metadata": {},
   "source": [
    "# Q.3 Write the same function except that it should not modify the original list and should instead return a new list."
   ]
  },
  {
   "cell_type": "code",
   "execution_count": 4,
   "metadata": {},
   "outputs": [
    {
     "name": "stdout",
     "output_type": "stream",
     "text": [
      "How many lines do you want?: 2\n",
      "Enter your text:Hello\n",
      "Enter your text:Rupom\n",
      "Before Calling The Function\n",
      "Input List : ['Hello', 'Rupom']\n",
      "After Calling The Function\n",
      "Input List:  ['Hello', 'Rupom']\n",
      "New List: ['Hello', 'Rupom']\n"
     ]
    }
   ],
   "source": [
    "def Add_Excitment(first_list):\n",
    "    new_list=[]\n",
    "    i=0\n",
    "    while i<len(first_list):\n",
    "        new_list.insert(i,first_list[i]+'!')\n",
    "        i=i+1\n",
    "    return new_list\n",
    "a=input('How many lines do you want?: ')\n",
    "a=int(a)\n",
    "second_list=['s'] * a\n",
    "j=0\n",
    "while j<len(second_list):\n",
    "    second_list[j]=input('Enter your text:')\n",
    "    j=j+1\n",
    "print('Before Calling The Function\\nInput List :',second_list)\n",
    "res_list=Add_Excitment(second_list)\n",
    "print('After Calling The Function\\nInput List: ',second_list)\n",
    "print('New List:',second_list)"
   ]
  },
  {
   "cell_type": "code",
   "execution_count": null,
   "metadata": {},
   "outputs": [],
   "source": []
  }
 ],
 "metadata": {
  "kernelspec": {
   "display_name": "Python 3",
   "language": "python",
   "name": "python3"
  },
  "language_info": {
   "codemirror_mode": {
    "name": "ipython",
    "version": 3
   },
   "file_extension": ".py",
   "mimetype": "text/x-python",
   "name": "python",
   "nbconvert_exporter": "python",
   "pygments_lexer": "ipython3",
   "version": "3.7.1"
  }
 },
 "nbformat": 4,
 "nbformat_minor": 2
}
