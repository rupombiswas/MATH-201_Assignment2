{
 "cells": [
  {
   "cell_type": "markdown",
   "metadata": {},
   "source": [
    "# Q.8 Recall that if s is a string, then s.find( ' a ' ) will find the location of the first a in s . The problem is that it does not find the location of every a. Write a function called findall that given a string and a single character, returns a list containing all of the locations of that character in the string. It should return an empty list if there are no occurrences of the character in the string."
   ]
  },
  {
   "cell_type": "code",
   "execution_count": 4,
   "metadata": {},
   "outputs": [
    {
     "name": "stdout",
     "output_type": "stream",
     "text": [
      "Enter a String: Rupom Biswas\n",
      "Enter a Character: a\n",
      "The position's of character a in the string\n",
      " [10]\n"
     ]
    }
   ],
   "source": [
    "def Find_All(string,character):\n",
    "    list=[]\n",
    "    i=0\n",
    "    j=0\n",
    "    for c in string:\n",
    "        if c==character:\n",
    "            list.insert(i,j)\n",
    "            i=i+1\n",
    "        j=j+1\n",
    "    return list\n",
    "string=input('Enter a String: ')\n",
    "character=input('Enter a Character: ')\n",
    "res_list=Find_All(string,character)\n",
    "print(\"The position's of character\",character,'in the string\\n',res_list)\n"
   ]
  },
  {
   "cell_type": "code",
   "execution_count": null,
   "metadata": {},
   "outputs": [],
   "source": []
  }
 ],
 "metadata": {
  "kernelspec": {
   "display_name": "Python 3",
   "language": "python",
   "name": "python3"
  },
  "language_info": {
   "codemirror_mode": {
    "name": "ipython",
    "version": 3
   },
   "file_extension": ".py",
   "mimetype": "text/x-python",
   "name": "python",
   "nbconvert_exporter": "python",
   "pygments_lexer": "ipython3",
   "version": "3.7.1"
  }
 },
 "nbformat": 4,
 "nbformat_minor": 2
}
