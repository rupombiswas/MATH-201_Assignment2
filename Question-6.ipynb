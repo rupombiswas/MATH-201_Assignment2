{
 "cells": [
  {
   "cell_type": "markdown",
   "metadata": {},
   "source": [
    "# Q.6 Write a function called matches that takes two strings as arguments and returns how many matches there are between the strings. A match is where the two strings have the same character at the same index. For instance, ' python ' and ' path ' match in the first, third, and fourth characters, so the function should return 3."
   ]
  },
  {
   "cell_type": "code",
   "execution_count": 13,
   "metadata": {},
   "outputs": [
    {
     "name": "stdout",
     "output_type": "stream",
     "text": [
      "Output: 4\n"
     ]
    }
   ],
   "source": [
    "def main():\n",
    "    matches(\"Rupom\",\"Rustom\")\n",
    "    \n",
    "def matches(firstString, secondString):\n",
    "    word_match = 0\n",
    "    for letters_1 in firstString:\n",
    "        for letters_2 in secondString:\n",
    "            \n",
    "            if letters_1 == letters_2:\n",
    "                word_match = word_match + 1\n",
    "    \n",
    "    print('Output: %d'%word_match)                \n",
    "    return word_match\n",
    "\n",
    "\n",
    "\n",
    "main()"
   ]
  },
  {
   "cell_type": "code",
   "execution_count": null,
   "metadata": {},
   "outputs": [],
   "source": []
  }
 ],
 "metadata": {
  "kernelspec": {
   "display_name": "Python 3",
   "language": "python",
   "name": "python3"
  },
  "language_info": {
   "codemirror_mode": {
    "name": "ipython",
    "version": 3
   },
   "file_extension": ".py",
   "mimetype": "text/x-python",
   "name": "python",
   "nbconvert_exporter": "python",
   "pygments_lexer": "ipython3",
   "version": "3.7.1"
  }
 },
 "nbformat": 4,
 "nbformat_minor": 2
}
